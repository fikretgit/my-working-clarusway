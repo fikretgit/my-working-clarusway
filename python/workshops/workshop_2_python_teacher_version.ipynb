{
  "cells": [
    {
      "cell_type": "markdown",
      "id": "cec2380e",
      "metadata": {
        "id": "cec2380e"
      },
      "source": [
        "### Code Challenge -1\n",
        "\n",
        "<div class=\"alert alert-block alert-info\">\n",
        "    <b>💡Objective:</b>\n",
        "    <ul>\n",
        "        <li>To improve your <b>boolean logic</b> and <b>arithmetic operator algorithm</b>&nbsp;skills.</li>\n",
        "    </ul>\n",
        "</div>\n",
        "\n",
        "- Using the all following items once each, set a correct boolean expression that returns `write me`. Use the `print()` function to display the result.\n",
        "\n",
        "```python\n",
        "0\n",
        "and\n",
        "not\n",
        "\"write me\"\n",
        "```"
      ]
    },
    {
      "cell_type": "markdown",
      "id": "bd5961ea",
      "metadata": {
        "id": "bd5961ea"
      },
      "source": [
        "### Solution - 1"
      ]
    },
    {
      "cell_type": "code",
      "execution_count": 1,
      "id": "f591cc23",
      "metadata": {
        "id": "f591cc23"
      },
      "outputs": [
        {
          "name": "stdout",
          "output_type": "stream",
          "text": [
            "write me\n"
          ]
        }
      ],
      "source": [
        "print(not 0 and \"write me\")"
      ]
    },
    {
      "cell_type": "markdown",
      "id": "ff55f195",
      "metadata": {
        "id": "ff55f195"
      },
      "source": [
        "### Code Challenge-2\n",
        "\n",
        "<div class=\"alert alert-block alert-info\">\n",
        "    <b>💡Objective:</b>\n",
        "    <ul>\n",
        "        <li>To improve your <b>boolean logic algorithm</b>&nbsp;and truth value skills.</li>\n",
        "    </ul>\n",
        "</div>\n",
        "\n",
        "- Find out if a given year is a \"leap\" year.\n",
        "\n",
        "  - In the Gregorian calendar, three criteria must be taken into account to identify leap years:\n",
        "  \n",
        "    - The year must be evenly divisible by 4;\n",
        "    - If the year can also be evenly divided by 100, it is not a leap year; unless...(next one)\n",
        "    - The year is also evenly divisible by 400. Then it is a leap year.\n",
        "\n",
        "- According to these rules, the years 2000 and 2400 are leap years, while 1800, 1900, 2100, 2200, 2300, and 2500 are not the leap years.\n",
        "\n",
        "- Write a Python program that;\n",
        "  - Takes a 4-digit year from the user,\n",
        "  - Prints `True` if the given year by the user is a leap year, prints `False` otherwise.\n",
        "  \n",
        "> Note that; this question is famous on the web, so that do it yourself to get more benefits from it."
      ]
    },
    {
      "cell_type": "markdown",
      "id": "55bc3ee3",
      "metadata": {
        "id": "55bc3ee3"
      },
      "source": [
        "### Solution-2"
      ]
    },
    {
      "cell_type": "code",
      "execution_count": 5,
      "id": "2f651282",
      "metadata": {
        "id": "2f651282"
      },
      "outputs": [
        {
          "name": "stdout",
          "output_type": "stream",
          "text": [
            "False\n"
          ]
        }
      ],
      "source": [
        "year = int(input(\"enter the year to check: \"))\n",
        "print(year % 400 == 0 or (year % 4 == 0 and year % 100 != 0))"
      ]
    },
    {
      "cell_type": "markdown",
      "id": "22a552e5",
      "metadata": {
        "id": "22a552e5"
      },
      "source": [
        "### Code Challenge-3\n",
        "\n",
        "<p></p>\n",
        "<div class=\"alert alert-block alert-info\">\n",
        "    <b>💡Objective:</b>\n",
        "    <ul>\n",
        "        <li>To improve your <b>collection </b>type <b>knowledge, </b>using<b> </b><span>new </span><span>built-in<b> function comprehension, string formatting</b></span>&nbsp;and <b>problem solving</b> skills.</li>\n",
        "    </ul>\n",
        "</div>\n",
        "\n",
        "<b>Task - 1 :</b><br>You work for a manufacturer as a programmer and\n",
        "have been asked to calculate the\n",
        "<b>total profit</b> made on the sales of a product. You are given a dictionary (<code>sales</code>) containing the <span><i>cost </i>price</span><span> </span>per unit (in dollars), <span><i>sell </i>price</span><span> </span>per unit (in dollars), and\n",
        "the <span><span>beginning</span></span><i> inventory</i>. Write a program to return the <b>total profit&nbsp;</b>made, <b>rounded&nbsp;</b>to the nearest dollar. Assume all of the <i>inventory</i> has been sold. The <i>name</i> and the <i>keys</i> of\n",
        "the dictionary are constant, so use them as they are.<br>\n",
        "<hr>\n",
        "\n",
        "\n",
        "<p>The example of the <i>values</i> (<i>sell</i>-<i>cost </i>value,&nbsp;<i>inventory</i>) and total <i>profit </i>:</p>\n",
        "\n",
        "```python\n",
        "sales = {\n",
        "  \"cost_value\": 31.87,\n",
        "  \"sell_value\": 45.00,\n",
        "  \"inventory\": 1000\n",
        "}  \n",
        "\n",
        "# the profit will be : 13130\n",
        "````\n",
        "\n",
        "<hr>\n",
        "<p><b>Task - 2 :</b><br>Your boss wants you to prepare the <b>payrolls</b> of the workers in your department. You have to convert the amount of dollars into <i>payroll </i>format. In order to help move things along, you have volunteered to write a code that\n",
        "    will take a float and return the money in the following format (as <i>dollars</i> and <i>cents</i>).&nbsp;</p>\n",
        "<p><br>\n",
        "</p>\n",
        "\n",
        "- Examples :\n",
        "\n",
        "|Given Float Type `amount`|Desired Output|\n",
        "|--|--|\n",
        "|3|\\$3.00|\n",
        "|29.99|\\$29.99|\n",
        "|4.1|\\$4.10|\n",
        "\n",
        "The output should be float type as well and two digits after the period.<br><br>\n",
        "<p></p>"
      ]
    },
    {
      "cell_type": "markdown",
      "id": "98cd2f0e",
      "metadata": {
        "id": "98cd2f0e"
      },
      "source": [
        "### Solution-3"
      ]
    },
    {
      "cell_type": "code",
      "execution_count": 20,
      "id": "576823cc",
      "metadata": {
        "id": "576823cc"
      },
      "outputs": [
        {
          "name": "stdout",
          "output_type": "stream",
          "text": [
            "13130\n"
          ]
        }
      ],
      "source": [
        "# Task-1\n",
        "\n",
        "sales = {\n",
        "  \"cost_value\": 31.87,\n",
        "  \"sell_value\": 45.00,\n",
        "  \"inventory\": 1000\n",
        "}  \n",
        "\n",
        "print(round((sales[\"sell_value\"] - sales[\"cost_value\"]) * sales[\"inventory\"]))"
      ]
    },
    {
      "cell_type": "code",
      "execution_count": 26,
      "id": "63fb6f4b",
      "metadata": {
        "id": "63fb6f4b"
      },
      "outputs": [
        {
          "name": "stdout",
          "output_type": "stream",
          "text": [
            "2.79\n"
          ]
        }
      ],
      "source": [
        "# Task-2\n",
        "money = float(input(\"what is the payroll: \"))\n",
        "print(\"{:.2f}\".format(money))\n"
      ]
    },
    {
      "cell_type": "code",
      "execution_count": null,
      "id": "d3907c41",
      "metadata": {
        "id": "d3907c41"
      },
      "outputs": [],
      "source": []
    }
  ],
  "metadata": {
    "colab": {
      "collapsed_sections": [],
      "name": "workshop-2-python-student-version.ipynb",
      "provenance": [],
      "toc_visible": true
    },
    "interpreter": {
      "hash": "468f25ad0239460415b7e6b7483d5c8f7213894121f6fb96c4cb6ef93fffe534"
    },
    "kernelspec": {
      "display_name": "Python 3.9.6 64-bit",
      "name": "python3"
    },
    "language_info": {
      "codemirror_mode": {
        "name": "ipython",
        "version": 3
      },
      "file_extension": ".py",
      "mimetype": "text/x-python",
      "name": "python",
      "nbconvert_exporter": "python",
      "pygments_lexer": "ipython3",
      "version": "3.9.6"
    }
  },
  "nbformat": 4,
  "nbformat_minor": 5
}
